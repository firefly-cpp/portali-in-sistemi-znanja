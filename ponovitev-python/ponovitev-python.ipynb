{
 "cells": [
  {
   "cell_type": "markdown",
   "metadata": {},
   "source": [
    "# Programski jezik Python\n",
    "## Kratek pregled\n",
    "\n",
    "Delovni zvezek \"Jupyter\" je brezplačno, odprtokodno, interaktivno spletno orodje. Gre za računalniški zvezek, ki je postal široko uporabljen po vsem svetu. Njegova prednost je v kombinaciji dveh tipov celic:\n",
    "* Markdown ([Cheat sheet](https://www.markdownguide.org/cheat-sheet/))\n",
    "* Code\n",
    "\n",
    "Raziskovalci ga uporabljajo za kombiniranje programske kode, izpisov med izvajanjem kode, eksplikativnega besedila in vključevanja večpredstavnostnih virov, vse v enem dokumentu.\n",
    "Trenutna celica je torej tipa Markdown in služi za opis dela."
   ]
  },
  {
   "cell_type": "markdown",
   "metadata": {},
   "source": [
    "## Vzpostavitev virtualnega okolja\n",
    "\n",
    "bash:\n",
    "python -m venv okolje\n",
    "source okolje/bin/activate\n",
    "\n",
    "## Namestitev knjižnic\n",
    "bash:\n",
    "pip install ime-knjiznice"
   ]
  },
  {
   "cell_type": "markdown",
   "metadata": {},
   "source": [
    "# Osnove\n",
    "\n",
    "Sintaksa kode v datotekah .py in .ipynb, čeprav gre v obeh primerih za programski jezik Python, ni popolnoma enaka.\n",
    "Primer tega je naslednja celica:"
   ]
  },
  {
   "cell_type": "code",
   "execution_count": 1,
   "metadata": {},
   "outputs": [
    {
     "data": {
      "text/plain": [
       "'Prikazan izpis'"
      ]
     },
     "execution_count": 1,
     "metadata": {},
     "output_type": "execute_result"
    }
   ],
   "source": [
    "\"Neprikazan izpis\"\n",
    "\"Prikazan izpis\""
   ]
  },
  {
   "cell_type": "markdown",
   "metadata": {},
   "source": [
    "Vidimo, da se izpiše le zadnji. Zatorej se bomo raje osredotočili na podobnosti. Za izpis v konzolo bomo raje uporabljali način print(\"izpis\"). print() samodejno doda novo vrstico."
   ]
  },
  {
   "cell_type": "code",
   "execution_count": 2,
   "metadata": {},
   "outputs": [
    {
     "name": "stdout",
     "output_type": "stream",
     "text": [
      "Hello world\n",
      "Hello world\n",
      "Hello \n",
      "world\n",
      "Hello world\n"
     ]
    }
   ],
   "source": [
    "# Izpis v konzolo\n",
    "print(\"Hello world\")\n",
    "\n",
    "besedilo = \"Hello world\"\n",
    "print(besedilo)\n",
    "\n",
    "# \\n nova vrstica\n",
    "print(\"Hello \\nworld\")\n",
    "\n",
    "# Brez nove vrstice\n",
    "print(\"Hello \", end='')\n",
    "print(\"world\")"
   ]
  },
  {
   "cell_type": "markdown",
   "metadata": {},
   "source": [
    "Glavne pretvorbe med tipi:\n",
    "* int() - cela števila\n",
    "* float() - realna števila (npr. 2.6, 3.7)\n",
    "* str() - niz\n",
    "* bool() - logična vrednost: True, False"
   ]
  },
  {
   "cell_type": "code",
   "execution_count": 3,
   "metadata": {},
   "outputs": [
    {
     "name": "stdout",
     "output_type": "stream",
     "text": [
      "1\n",
      "1.1\n",
      "1\n",
      "1.0\n",
      "55.545003421\n",
      "55.545\n"
     ]
    }
   ],
   "source": [
    "# Spremenljivka x, tipa int, vrednost 1\n",
    "# prirejanje vrednosti\n",
    "x = 1\n",
    "print(x)\n",
    "\n",
    "x1 = 1.1\n",
    "print(x1)\n",
    "\n",
    "y1 = int(x1)\n",
    "print(y1)\n",
    "\n",
    "y2 = float(x)\n",
    "print(y2)\n",
    "\n",
    "x2 = 55.545003421\n",
    "print(x2)\n",
    "\n",
    "y3 = round(x2, 3)\n",
    "print(y3)"
   ]
  },
  {
   "cell_type": "markdown",
   "metadata": {},
   "source": [
    "Python torej v osnovi avtomatsko določi tip spremenljivke, ki jih lahko dodatno pretvarjamo. Velikokrat nam je lahko v pomoč tudi naslednje:"
   ]
  },
  {
   "cell_type": "code",
   "execution_count": 4,
   "metadata": {},
   "outputs": [
    {
     "name": "stdout",
     "output_type": "stream",
     "text": [
      "<class 'str'>\n",
      "<class 'int'>\n",
      "<class 'float'>\n"
     ]
    }
   ],
   "source": [
    "print(type(besedilo))\n",
    "\n",
    "print(type(x))\n",
    "\n",
    "print(type(y2))"
   ]
  },
  {
   "cell_type": "markdown",
   "metadata": {},
   "source": [
    "## Nekaj osnovnih ukazov"
   ]
  },
  {
   "cell_type": "code",
   "execution_count": 5,
   "metadata": {},
   "outputs": [
    {
     "name": "stdout",
     "output_type": "stream",
     "text": [
      "x=1\n",
      "2\n",
      "1\n",
      "4\n",
      "1\n",
      "5.0\n",
      "Pretvorba nazaj v int: 5\n"
     ]
    }
   ],
   "source": [
    "x = 1\n",
    "print(\"x=\" + str(1))\n",
    "\n",
    "# vsota\n",
    "y = x + 1\n",
    "print(y)\n",
    "\n",
    "# odštevanje\n",
    "y = y - 1\n",
    "print(y)\n",
    "\n",
    "x = 2\n",
    "# potenciranje\n",
    "x = x**2\n",
    "print(x)\n",
    "\n",
    "# modulus - ostanek pri deljenju\n",
    "x = x % 3\n",
    "print(x)\n",
    "\n",
    "# deljenje\n",
    "x = 10\n",
    "x = x / 2\n",
    "print(x)\n",
    "print(\"Pretvorba nazaj v int: \" + str(int(x)))"
   ]
  },
  {
   "cell_type": "markdown",
   "metadata": {},
   "source": [
    "# Seznami"
   ]
  },
  {
   "cell_type": "code",
   "execution_count": 6,
   "metadata": {},
   "outputs": [
    {
     "name": "stdout",
     "output_type": "stream",
     "text": [
      "[]\n",
      "[<class 'int'>, <class 'int'>, <class 'int'>, <class 'int'>, <class 'int'>, <class 'int'>, <class 'int'>, <class 'int'>, <class 'int'>, <class 'int'>]\n",
      "\n",
      "a\n",
      "j\n",
      "['a', 'b', 'c']\n",
      "['b', 'c', 'd', 'e', 'f', 'g', 'h', 'i', 'j']\n",
      "['b', 'c']\n",
      "\n",
      "\n",
      "['a', 'b', 'c', 'd', 'e', 'f', 'g', 'h', 'i', 'j']\n",
      "a\n",
      "b\n",
      "c\n",
      "d\n",
      "e\n",
      "f\n",
      "g\n",
      "h\n",
      "i\n",
      "j\n",
      "a b c d e f g h i j\n",
      "\n",
      "['a', 'b', 'c', 'd', 'e', 'f', 'g', 'h', 'i', 'j', 'y']\n",
      "10\n",
      "1\n"
     ]
    }
   ],
   "source": [
    "# Ustvarimo prazen seznam (angl. list, podobno kot polje (angl. array), vendar lahko shrani različne tipe spremenljivk)\n",
    "prazen_seznam = []\n",
    "# Ustvarimo prazen seznam, v katerega bomo vstavili 10 spremenljivk tipa int\n",
    "prazen_seznam2 = [int] * 10\n",
    "\n",
    "print(prazen_seznam)\n",
    "print(prazen_seznam2)\n",
    "\n",
    "seznam = ['a', 'b', 'c', 'd', 'e', 'f', 'g', 'h', 'i', 'j']\n",
    "\n",
    "# Izpis prvega elementa\n",
    "print(\"\\n\" + seznam[0])\n",
    "# Izpis zadnjega elementa\n",
    "print(seznam[-1])\n",
    "\n",
    "# Izpis elementov pred indeksom 3\n",
    "print(seznam[:3])\n",
    "# Izpis elementov po indeksu 1\n",
    "print(seznam[1:])\n",
    "# Izpis elementa z indeksom 1 in 2 (vključno prvi, do drugi)\n",
    "print(seznam[1:3])\n",
    "\n",
    "print(\"\\n\")\n",
    "# Izpis celotnega seznama\n",
    "print(seznam[:])\n",
    "\n",
    "for elem in seznam:\n",
    "    print(elem)\n",
    "\n",
    "# Izpis v eni vrstici, brez ['','']\n",
    "print(*seznam)\n",
    "\n",
    "# Dodajanje elementa na konec seznama\n",
    "seznam.append('y')\n",
    "\n",
    "print(\"\\n\" + str(seznam))\n",
    "# vrni indeks elementa (če je več enakih, vrne prvega)\n",
    "print(seznam.index('y'))\n",
    "\n",
    "# vrni število elementov 'y'\n",
    "print(seznam.count('y'))"
   ]
  },
  {
   "cell_type": "markdown",
   "metadata": {},
   "source": [
    "# Slovarji\n",
    "* angl. dictionary\n",
    "* ključ:vrednost - key:value"
   ]
  },
  {
   "cell_type": "code",
   "execution_count": 7,
   "metadata": {},
   "outputs": [
    {
     "name": "stdout",
     "output_type": "stream",
     "text": [
      "Slovenija\n",
      "Slovenija\n",
      "None\n",
      "3\n",
      "\n",
      "dict_keys(['artikel', 'poreklo', 'kolicina'])\n",
      "dict_values(['sliva', 'Slovenija', 50])\n",
      "dict_items([('artikel', 'sliva'), ('poreklo', 'Slovenija'), ('kolicina', 50)])\n"
     ]
    }
   ],
   "source": [
    "slovar = {\n",
    "    \"artikel\": \"sliva\",\n",
    "    \"poreklo\": \"Slovenija\",\n",
    "    \"kolicina\": 50\n",
    "}\n",
    "\n",
    "# Izpis vrednosti za poreklo\n",
    "print(slovar['poreklo'])\n",
    "print(slovar.get('poreklo'))\n",
    "\n",
    "# Kaj se zgodi, če vrednost ni prisotna?\n",
    "# print (slovar['ne-obstaja']) --> KeyError: 'ne-obstaja'\n",
    "# Zato je priporočena uporaba .get metode -- vrne None\n",
    "print(slovar.get('ne-obstaja'))\n",
    "\n",
    "# Izpis dolžine slovarja\n",
    "print(len(slovar))\n",
    "\n",
    "print()\n",
    "# Izpis ključev\n",
    "print(slovar.keys())\n",
    "# Izpis vrednosti\n",
    "print(slovar.values())\n",
    "# Izpis elementov\n",
    "print(slovar.items())"
   ]
  },
  {
   "cell_type": "markdown",
   "metadata": {},
   "source": [
    "# If elif else"
   ]
  },
  {
   "cell_type": "code",
   "execution_count": 8,
   "metadata": {},
   "outputs": [
    {
     "name": "stdout",
     "output_type": "stream",
     "text": [
      "y je vecji od x\n"
     ]
    }
   ],
   "source": [
    "x = 5\n",
    "y = 10\n",
    "\n",
    "if x > y:\n",
    "    print(\"x je vecji od y\")\n",
    "elif x == y:\n",
    "    print(\"x je enak y\")\n",
    "else:\n",
    "    print(\"y je vecji od x\")"
   ]
  },
  {
   "cell_type": "markdown",
   "metadata": {},
   "source": [
    "# for zanka"
   ]
  },
  {
   "cell_type": "code",
   "execution_count": 9,
   "metadata": {},
   "outputs": [
    {
     "name": "stdout",
     "output_type": "stream",
     "text": [
      "10\n",
      "20\n",
      "30\n",
      "40\n",
      "\n",
      "0\n",
      "1\n",
      "2\n",
      "3\n",
      "\n",
      "0 10\n",
      "1 20\n",
      "2 30\n",
      "3 40\n"
     ]
    }
   ],
   "source": [
    "stevila = [10, 20, 30, 40]\n",
    "\n",
    "# Izpis vsakega števila\n",
    "for stevilo in stevila:\n",
    "    print(stevilo)\n",
    "\n",
    "print()\n",
    "# Izpis vsakega indeksa števila\n",
    "for i in range(len(stevila)):\n",
    "    print(i)\n",
    "\n",
    "print()\n",
    "# Izpis indeksa in števila\n",
    "for index, vrednost in enumerate(stevila):\n",
    "    print(index, vrednost)"
   ]
  },
  {
   "cell_type": "markdown",
   "metadata": {},
   "source": [
    "# While zanka\n",
    "While zanka - izvajanje dokler ... ne dosežemo pogoja\n",
    "\n",
    "### While - continue"
   ]
  },
  {
   "cell_type": "code",
   "execution_count": 10,
   "metadata": {},
   "outputs": [
    {
     "name": "stdout",
     "output_type": "stream",
     "text": [
      "1\n",
      "2\n",
      "Ta del je preskočen\n",
      "4\n",
      "5\n",
      "6\n"
     ]
    }
   ],
   "source": [
    "i = 0\n",
    "# Dokler je i manjši od 6 - se ponavlja\n",
    "while i < 6:\n",
    "    i += 1\n",
    "# Pogoj - če je i enak 3, nadaljuj izvajanje\n",
    "    if i == 3:\n",
    "        print(\"Ta del je preskočen\")\n",
    "        continue\n",
    "    print(i)"
   ]
  },
  {
   "cell_type": "markdown",
   "metadata": {},
   "source": [
    "### while - break\n",
    "While zanka - izvajanje dokler ne dosežemo pogoja"
   ]
  },
  {
   "cell_type": "code",
   "execution_count": 11,
   "metadata": {},
   "outputs": [
    {
     "name": "stdout",
     "output_type": "stream",
     "text": [
      "1\n",
      "2\n",
      "3\n",
      "Zanka končana.\n"
     ]
    }
   ],
   "source": [
    "i = 1\n",
    "# Dokler je i manjši od 6 - se ponavlja\n",
    "while i < 6:\n",
    "    print(i)\n",
    "    # če je i enak 3, prekini\n",
    "    if i == 3:\n",
    "        print('Zanka končana.')\n",
    "        break\n",
    "    i += 1"
   ]
  },
  {
   "cell_type": "markdown",
   "metadata": {},
   "source": [
    "### While - else"
   ]
  },
  {
   "cell_type": "code",
   "execution_count": 12,
   "metadata": {},
   "outputs": [
    {
     "name": "stdout",
     "output_type": "stream",
     "text": [
      "1\n",
      "2\n",
      "3\n",
      "4\n",
      "5\n",
      "i is no longer less than 6\n"
     ]
    }
   ],
   "source": [
    "i = 1\n",
    "while i < 6:\n",
    "    print(i)\n",
    "    i += 1\n",
    "else:\n",
    "    print(\"i is no longer less than 6\")"
   ]
  },
  {
   "cell_type": "markdown",
   "metadata": {},
   "source": [
    "# NumPy\n",
    "NumPy je temeljna knjižica za delo z matrikami v Pythonu. Omogoča delo z matrikami poljubnih dimenzij. Ponuja mnogo različnih operacij nad njimi, npr., matematične, logične, manipulacije oblike, transformacije, algebrske operacije, razvrščanje elementov ipd. Je ena izmed najbolj poznanih knjižnic za programski jezik Python in se lahko pohvali z izredno hitrostjo izvajanja operacij, primerljivo programskemu jeziku C, s preprostostjo programskega jezika Python."
   ]
  },
  {
   "cell_type": "code",
   "execution_count": 13,
   "metadata": {},
   "outputs": [
    {
     "name": "stdout",
     "output_type": "stream",
     "text": [
      "[1 2 3 4 5 6]\n"
     ]
    }
   ],
   "source": [
    "import numpy as np\n",
    "\n",
    "# Ustvari polje števil\n",
    "polje_stevil = np.array([1, 2, 3])\n",
    "# Pripni dodatna števila\n",
    "polje_stevil = np.append(polje_stevil, [4, 5, 6])\n",
    "# Izpis polja\n",
    "print(polje_stevil)"
   ]
  },
  {
   "cell_type": "code",
   "execution_count": 14,
   "metadata": {},
   "outputs": [
    {
     "name": "stdout",
     "output_type": "stream",
     "text": [
      "[[1 2 3]\n",
      " [4 5 6]\n",
      " [7 8 9]]\n",
      "\n",
      "[1 2 3 4 5 6 7 8 9]\n",
      "\n",
      "[[0.33333333 0.66666667 1.        ]\n",
      " [1.33333333 1.66666667 2.        ]\n",
      " [2.33333333 2.66666667 3.        ]]\n"
     ]
    }
   ],
   "source": [
    "# P olje poljubnih dimenzij\n",
    "prvo_polje_stevil = np.array([[2, 3, 4], [5, 6, 7], [8, 9, 10]])\n",
    "drugo_polje_stevil = np.array([[1, 2, 3], [4, 5, 6], [7, 8, 9]])\n",
    "print(drugo_polje_stevil)\n",
    "\n",
    "drugo_polje_stevil = drugo_polje_stevil.reshape(-1)\n",
    "print()\n",
    "print(drugo_polje_stevil)\n",
    "\n",
    "# Seveda so možne tudi bistveno kompleksnejše operacije, npr.\n",
    "# Vsota kvadratov števil absolutnih vrednosti dveh polij\n",
    "drugo_polje_stevil = np.array([[1, 2, 3], [4, 5, 6], [7, 8, 9]])\n",
    "np.sum(np.square(np.abs(prvo_polje_stevil-drugo_polje_stevil)))\n",
    "\n",
    "# Deljenje vseh elementov np.array s številom 3\n",
    "drugo_polje_stevil = np.divide(drugo_polje_stevil, 3)\n",
    "print()\n",
    "print(drugo_polje_stevil)"
   ]
  },
  {
   "cell_type": "markdown",
   "metadata": {},
   "source": [
    "# Delo s csv"
   ]
  },
  {
   "cell_type": "code",
   "execution_count": 15,
   "metadata": {},
   "outputs": [
    {
     "name": "stdout",
     "output_type": "stream",
     "text": [
      "['duration', 'distance', 'average_hr', 'average_altitude', 'max_altitude', 'calories', 'ascent', 'descent']\n",
      "['54.0', '8.869410156', '117', '418.3103138', '483.2000122', '374', '245.8000183', '208.2000122']\n",
      "['54.43333333', '14.19421973', '122', '477.5547162', '529.4000244', '316', '122.0002441', '86.40023804']\n",
      "['67.63333333', '24.59965039', '149', '98.83924418', '223.1999969', '499', '357.7999897', '349.3999901']\n",
      "['74.13333333', '17.48390039', '', '125.3543787', '175.6000061', '263', '107.0', '112.7999954']\n",
      "['52.38333333', '17.53968945', '118', '742.4507795', '800.7999878', '374', '328.3999023', '329.999939']\n",
      "['74.73333333', '18.76351953', '', '262.2846688', '368.3999939', '380', '270.2002869', '320.6002808']\n",
      "['68.65', '10.3579502', '100', '699.8537351', '758.7999878', '179', '237.8000488', '237.8000488']\n",
      "['77.2', '30.64191016', '128', '84.54064255', '105.8000031', '625', '121.4000015', '120.4000015']\n",
      "['54.98333333', '16.64184961', '128', '448.9744195', '783.2000122', '363', '376.1998901', '840.7998962']\n",
      "['58.86666667', '0.141389999', '128', '290.6402703', '294.3999939', '804', '211.1999512', '210.1999512']\n",
      "['60.0', '14.53333008', '126', '565.7703204', '662.4000244', '506', '725.3995361', '669.199585']\n",
      "['69.6', '28.01216016', '121', '85.4229694', '102.4000015', '528', '78.59999847', '81.0']\n",
      "['54.46666667', '12.31228027', '130', '692.6481351', '845.7999878', '395', '461.7997742', '206.1997986']\n",
      "['60.01666667', '21.31442969', '131', '167.334081', '213.6000061', '505', '190.000061', '190.4000549']\n",
      "['61.63333333', '20.56708984', '', '847.0339993', '929.2000122', '542', '642.9998779', '642.1998901']\n",
      "['67.21666667', '0.751400024', '128', '799.3894886', '800.5999756', '337', '2.799926758', '2.199951172']\n",
      "['76.78333333', '24.91089063', '113', '10.55207919', '75.80000305', '411', '94.00000572', '101.8000054']\n"
     ]
    }
   ],
   "source": [
    "import csv\n",
    "\n",
    "with open('../podatkovne-zbirke/sport-manjkajoci.csv', 'r') as file:\n",
    "    reader = csv.reader(file)\n",
    "    for row in reader:\n",
    "        print(row)"
   ]
  }
 ],
 "metadata": {
  "kernelspec": {
   "display_name": "Python 3",
   "language": "python",
   "name": "python3"
  },
  "language_info": {
   "codemirror_mode": {
    "name": "ipython",
    "version": 3
   },
   "file_extension": ".py",
   "mimetype": "text/x-python",
   "name": "python",
   "nbconvert_exporter": "python",
   "pygments_lexer": "ipython3",
   "version": "3.8.8"
  }
 },
 "nbformat": 4,
 "nbformat_minor": 1
}
